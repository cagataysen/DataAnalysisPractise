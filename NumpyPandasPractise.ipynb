{
  "nbformat": 4,
  "nbformat_minor": 0,
  "metadata": {
    "colab": {
      "name": "NumpyPandasPractise.ipynb",
      "provenance": [],
      "authorship_tag": "ABX9TyNGTxQk7PxLm485UUaP/Axa"
    },
    "kernelspec": {
      "name": "python3",
      "display_name": "Python 3"
    }
  },
  "cells": [
    {
      "cell_type": "markdown",
      "metadata": {
        "id": "-qgafoPjMauU"
      },
      "source": [
        "# <font color=\"red\"> **NUMPY** </font> "
      ]
    },
    {
      "cell_type": "code",
      "metadata": {
        "id": "e1-xC9i5B7tM"
      },
      "source": [
        "import numpy as np"
      ],
      "execution_count": 2,
      "outputs": []
    },
    {
      "cell_type": "code",
      "metadata": {
        "id": "dm0v0fARCLwE"
      },
      "source": [
        "a = np.array([1,2,3])"
      ],
      "execution_count": 3,
      "outputs": []
    },
    {
      "cell_type": "code",
      "metadata": {
        "id": "P-mZ5IHhCRAh",
        "outputId": "3afb591a-aecf-428b-a833-80279958fbbe",
        "colab": {
          "base_uri": "https://localhost:8080/"
        }
      },
      "source": [
        "print(a)"
      ],
      "execution_count": 4,
      "outputs": [
        {
          "output_type": "stream",
          "text": [
            "[1 2 3]\n"
          ],
          "name": "stdout"
        }
      ]
    },
    {
      "cell_type": "code",
      "metadata": {
        "id": "_bgxw89wCSBp",
        "outputId": "34d22f26-0efb-4ea3-e66f-4f97c0127f3d",
        "colab": {
          "base_uri": "https://localhost:8080/"
        }
      },
      "source": [
        "print(a.reshape(3,1))"
      ],
      "execution_count": 5,
      "outputs": [
        {
          "output_type": "stream",
          "text": [
            "[[1]\n",
            " [2]\n",
            " [3]]\n"
          ],
          "name": "stdout"
        }
      ]
    },
    {
      "cell_type": "code",
      "metadata": {
        "id": "e_r4uFoWCYmE",
        "outputId": "73f665c0-e770-4509-975f-7d058c96f6d8",
        "colab": {
          "base_uri": "https://localhost:8080/"
        }
      },
      "source": [
        "print(a.reshape(1,3))"
      ],
      "execution_count": 6,
      "outputs": [
        {
          "output_type": "stream",
          "text": [
            "[[1 2 3]]\n"
          ],
          "name": "stdout"
        }
      ]
    },
    {
      "cell_type": "code",
      "metadata": {
        "id": "0IAVMoxmCbiv",
        "outputId": "da74dbaa-069e-4dd8-a930-3e5cc90b25d5",
        "colab": {
          "base_uri": "https://localhost:8080/"
        }
      },
      "source": [
        "print(a.size)"
      ],
      "execution_count": 7,
      "outputs": [
        {
          "output_type": "stream",
          "text": [
            "3\n"
          ],
          "name": "stdout"
        }
      ]
    },
    {
      "cell_type": "code",
      "metadata": {
        "id": "xkb5bbyCCi-Y",
        "outputId": "691d5ed9-7ffe-4683-da6d-b84ce59521ca",
        "colab": {
          "base_uri": "https://localhost:8080/"
        }
      },
      "source": [
        "type(a)"
      ],
      "execution_count": 8,
      "outputs": [
        {
          "output_type": "execute_result",
          "data": {
            "text/plain": [
              "numpy.ndarray"
            ]
          },
          "metadata": {
            "tags": []
          },
          "execution_count": 8
        }
      ]
    },
    {
      "cell_type": "code",
      "metadata": {
        "id": "tE-Lahm5CmIu",
        "outputId": "43578484-34e8-4d70-cec6-f4b893b16d34",
        "colab": {
          "base_uri": "https://localhost:8080/"
        }
      },
      "source": [
        "zeros = np.zeros((3,4))\n",
        "print(zeros)"
      ],
      "execution_count": 9,
      "outputs": [
        {
          "output_type": "stream",
          "text": [
            "[[0. 0. 0. 0.]\n",
            " [0. 0. 0. 0.]\n",
            " [0. 0. 0. 0.]]\n"
          ],
          "name": "stdout"
        }
      ]
    },
    {
      "cell_type": "code",
      "metadata": {
        "id": "Gy-3tAz3C2h4",
        "outputId": "087519ef-8601-4d34-d19f-7442d69fb67c",
        "colab": {
          "base_uri": "https://localhost:8080/"
        }
      },
      "source": [
        "sifir = np.zeros((2,2))\n",
        "print(sifir)"
      ],
      "execution_count": 10,
      "outputs": [
        {
          "output_type": "stream",
          "text": [
            "[[0. 0.]\n",
            " [0. 0.]]\n"
          ],
          "name": "stdout"
        }
      ]
    },
    {
      "cell_type": "code",
      "metadata": {
        "id": "KOn8ea6nDNuS",
        "outputId": "56161112-8514-4ce4-d462-fad093d7a749",
        "colab": {
          "base_uri": "https://localhost:8080/"
        }
      },
      "source": [
        "ones = np.ones((3,5))\n",
        "print(ones)"
      ],
      "execution_count": 11,
      "outputs": [
        {
          "output_type": "stream",
          "text": [
            "[[1. 1. 1. 1. 1.]\n",
            " [1. 1. 1. 1. 1.]\n",
            " [1. 1. 1. 1. 1.]]\n"
          ],
          "name": "stdout"
        }
      ]
    },
    {
      "cell_type": "code",
      "metadata": {
        "id": "QM4IysKSDZxM",
        "outputId": "ae7361bb-de18-42ee-b56e-ba6d90268780",
        "colab": {
          "base_uri": "https://localhost:8080/"
        }
      },
      "source": [
        "ones[2,3] = 5\n",
        "ones[0,4] = 10\n",
        "ones[1,1] = 31\n",
        "print(ones)"
      ],
      "execution_count": 12,
      "outputs": [
        {
          "output_type": "stream",
          "text": [
            "[[ 1.  1.  1.  1. 10.]\n",
            " [ 1. 31.  1.  1.  1.]\n",
            " [ 1.  1.  1.  5.  1.]]\n"
          ],
          "name": "stdout"
        }
      ]
    },
    {
      "cell_type": "code",
      "metadata": {
        "id": "2LxHHP95D_Xt",
        "outputId": "8723ba08-e1a8-40c0-d793-a62e160d58ec",
        "colab": {
          "base_uri": "https://localhost:8080/"
        }
      },
      "source": [
        "array = np.arange(5, 56, 10)   #ARANGE IS NOT ARRANGE !!!\n",
        "print(array)"
      ],
      "execution_count": 13,
      "outputs": [
        {
          "output_type": "stream",
          "text": [
            "[ 5 15 25 35 45 55]\n"
          ],
          "name": "stdout"
        }
      ]
    },
    {
      "cell_type": "code",
      "metadata": {
        "id": "SaO3jsJtEgFK",
        "outputId": "1e9e61ef-8bce-4868-c706-a960b59faead",
        "colab": {
          "base_uri": "https://localhost:8080/"
        }
      },
      "source": [
        "print(array.reshape(2,3))"
      ],
      "execution_count": 14,
      "outputs": [
        {
          "output_type": "stream",
          "text": [
            "[[ 5 15 25]\n",
            " [35 45 55]]\n"
          ],
          "name": "stdout"
        }
      ]
    },
    {
      "cell_type": "code",
      "metadata": {
        "id": "zdIFfXTWFL52",
        "outputId": "ccbe64f1-7aae-48a4-d32e-33abcd6d2685",
        "colab": {
          "base_uri": "https://localhost:8080/"
        }
      },
      "source": [
        "c = np.array([1,2,3])\n",
        "d = np.array([4,5,6])\n",
        "\n",
        "print(c + d)"
      ],
      "execution_count": 15,
      "outputs": [
        {
          "output_type": "stream",
          "text": [
            "[5 7 9]\n"
          ],
          "name": "stdout"
        }
      ]
    },
    {
      "cell_type": "code",
      "metadata": {
        "id": "ieu2rx0EGWK3",
        "outputId": "0fc319cf-5aca-433d-bca4-2502050d751b",
        "colab": {
          "base_uri": "https://localhost:8080/"
        }
      },
      "source": [
        "print(c ** 2)"
      ],
      "execution_count": 16,
      "outputs": [
        {
          "output_type": "stream",
          "text": [
            "[1 4 9]\n"
          ],
          "name": "stdout"
        }
      ]
    },
    {
      "cell_type": "code",
      "metadata": {
        "id": "Mhk0LAZCGiT9",
        "outputId": "a3124d7c-4fd5-4b0d-f2c5-8f6cc25b1d43",
        "colab": {
          "base_uri": "https://localhost:8080/"
        }
      },
      "source": [
        "print(np.sin(c))"
      ],
      "execution_count": 17,
      "outputs": [
        {
          "output_type": "stream",
          "text": [
            "[0.84147098 0.90929743 0.14112001]\n"
          ],
          "name": "stdout"
        }
      ]
    },
    {
      "cell_type": "code",
      "metadata": {
        "id": "GGN7HRDNGoWG",
        "outputId": "6eaba3c3-76dc-469c-862b-c79f814282e3",
        "colab": {
          "base_uri": "https://localhost:8080/"
        }
      },
      "source": [
        "print(c > 2)"
      ],
      "execution_count": 18,
      "outputs": [
        {
          "output_type": "stream",
          "text": [
            "[False False  True]\n"
          ],
          "name": "stdout"
        }
      ]
    },
    {
      "cell_type": "code",
      "metadata": {
        "id": "vxw1KauzGwFZ",
        "outputId": "c27de674-395d-44f5-c931-9b7ba5d256c2",
        "colab": {
          "base_uri": "https://localhost:8080/"
        }
      },
      "source": [
        "a = np.array([0,1,2,3,4,5,6,7,8])\n",
        "print(a[0:7:2])"
      ],
      "execution_count": 19,
      "outputs": [
        {
          "output_type": "stream",
          "text": [
            "[0 2 4 6]\n"
          ],
          "name": "stdout"
        }
      ]
    },
    {
      "cell_type": "code",
      "metadata": {
        "id": "Uq3KTaZ0KD9H",
        "outputId": "9c4e1956-ce7d-421f-fab8-bc7195b415ba",
        "colab": {
          "base_uri": "https://localhost:8080/"
        }
      },
      "source": [
        "print(a[::-1])    #reverse"
      ],
      "execution_count": 20,
      "outputs": [
        {
          "output_type": "stream",
          "text": [
            "[8 7 6 5 4 3 2 1 0]\n"
          ],
          "name": "stdout"
        }
      ]
    },
    {
      "cell_type": "code",
      "metadata": {
        "id": "b_uH-4n_KKPG"
      },
      "source": [
        "a = a.reshape((3,3))"
      ],
      "execution_count": 21,
      "outputs": []
    },
    {
      "cell_type": "code",
      "metadata": {
        "id": "CmVX3XAzK_mh",
        "outputId": "8b27fa85-385c-47a6-e181-713ab06e534e",
        "colab": {
          "base_uri": "https://localhost:8080/"
        }
      },
      "source": [
        "print(a)"
      ],
      "execution_count": 22,
      "outputs": [
        {
          "output_type": "stream",
          "text": [
            "[[0 1 2]\n",
            " [3 4 5]\n",
            " [6 7 8]]\n"
          ],
          "name": "stdout"
        }
      ]
    },
    {
      "cell_type": "code",
      "metadata": {
        "id": "ci4ebpWxLHQz",
        "outputId": "1a928334-94d0-4057-d782-a4f5ac8ad07f",
        "colab": {
          "base_uri": "https://localhost:8080/"
        }
      },
      "source": [
        "a = a.ravel()\n",
        "print(a)"
      ],
      "execution_count": 23,
      "outputs": [
        {
          "output_type": "stream",
          "text": [
            "[0 1 2 3 4 5 6 7 8]\n"
          ],
          "name": "stdout"
        }
      ]
    },
    {
      "cell_type": "markdown",
      "metadata": {
        "id": "t0NxU1NPMnnj"
      },
      "source": [
        "# <font color=\"red\"> **PANDAS** </font> "
      ]
    },
    {
      "cell_type": "code",
      "metadata": {
        "id": "vLnoLc8bMq83"
      },
      "source": [
        "import pandas as pd"
      ],
      "execution_count": 41,
      "outputs": []
    },
    {
      "cell_type": "code",
      "metadata": {
        "id": "NSgGMaE6NVsx"
      },
      "source": [
        "dictionary = {\n",
        "              \"NAME\" :[\"cagatay\", \"orhan\", \"umit\", \"bekir\", \"didem\", \"berk\", \"jack\", \"galloway\", \"ryan\"],\n",
        "              \"AGE\" : [22, 54, 53, 30, 23, 21,31, 58, 69],\n",
        "              \"SALARY\" : [2000, 3000, 1000, 4000, 500, 200, 300, 500, 600]\n",
        "              }\n",
        "\n",
        "df = pd.DataFrame(dictionary)"
      ],
      "execution_count": 42,
      "outputs": []
    },
    {
      "cell_type": "code",
      "metadata": {
        "id": "jFTcEW2IOOKH",
        "outputId": "e5231cb3-16e9-4ee6-b9f3-251d7bf3bf71",
        "colab": {
          "base_uri": "https://localhost:8080/",
          "height": 328
        }
      },
      "source": [
        "df"
      ],
      "execution_count": 43,
      "outputs": [
        {
          "output_type": "execute_result",
          "data": {
            "text/html": [
              "<div>\n",
              "<style scoped>\n",
              "    .dataframe tbody tr th:only-of-type {\n",
              "        vertical-align: middle;\n",
              "    }\n",
              "\n",
              "    .dataframe tbody tr th {\n",
              "        vertical-align: top;\n",
              "    }\n",
              "\n",
              "    .dataframe thead th {\n",
              "        text-align: right;\n",
              "    }\n",
              "</style>\n",
              "<table border=\"1\" class=\"dataframe\">\n",
              "  <thead>\n",
              "    <tr style=\"text-align: right;\">\n",
              "      <th></th>\n",
              "      <th>NAME</th>\n",
              "      <th>AGE</th>\n",
              "      <th>SALARY</th>\n",
              "    </tr>\n",
              "  </thead>\n",
              "  <tbody>\n",
              "    <tr>\n",
              "      <th>0</th>\n",
              "      <td>cagatay</td>\n",
              "      <td>22</td>\n",
              "      <td>2000</td>\n",
              "    </tr>\n",
              "    <tr>\n",
              "      <th>1</th>\n",
              "      <td>orhan</td>\n",
              "      <td>54</td>\n",
              "      <td>3000</td>\n",
              "    </tr>\n",
              "    <tr>\n",
              "      <th>2</th>\n",
              "      <td>umit</td>\n",
              "      <td>53</td>\n",
              "      <td>1000</td>\n",
              "    </tr>\n",
              "    <tr>\n",
              "      <th>3</th>\n",
              "      <td>bekir</td>\n",
              "      <td>30</td>\n",
              "      <td>4000</td>\n",
              "    </tr>\n",
              "    <tr>\n",
              "      <th>4</th>\n",
              "      <td>didem</td>\n",
              "      <td>23</td>\n",
              "      <td>500</td>\n",
              "    </tr>\n",
              "    <tr>\n",
              "      <th>5</th>\n",
              "      <td>berk</td>\n",
              "      <td>21</td>\n",
              "      <td>200</td>\n",
              "    </tr>\n",
              "    <tr>\n",
              "      <th>6</th>\n",
              "      <td>jack</td>\n",
              "      <td>31</td>\n",
              "      <td>300</td>\n",
              "    </tr>\n",
              "    <tr>\n",
              "      <th>7</th>\n",
              "      <td>galloway</td>\n",
              "      <td>58</td>\n",
              "      <td>500</td>\n",
              "    </tr>\n",
              "    <tr>\n",
              "      <th>8</th>\n",
              "      <td>ryan</td>\n",
              "      <td>69</td>\n",
              "      <td>600</td>\n",
              "    </tr>\n",
              "  </tbody>\n",
              "</table>\n",
              "</div>"
            ],
            "text/plain": [
              "       NAME  AGE  SALARY\n",
              "0   cagatay   22    2000\n",
              "1     orhan   54    3000\n",
              "2      umit   53    1000\n",
              "3     bekir   30    4000\n",
              "4     didem   23     500\n",
              "5      berk   21     200\n",
              "6      jack   31     300\n",
              "7  galloway   58     500\n",
              "8      ryan   69     600"
            ]
          },
          "metadata": {
            "tags": []
          },
          "execution_count": 43
        }
      ]
    },
    {
      "cell_type": "code",
      "metadata": {
        "id": "b1QlS_8OOPzT",
        "outputId": "75dc81cc-1dc7-43c3-cdf8-3c439fe822ae",
        "colab": {
          "base_uri": "https://localhost:8080/",
          "height": 204
        }
      },
      "source": [
        "df.head()  #first 5 data"
      ],
      "execution_count": 44,
      "outputs": [
        {
          "output_type": "execute_result",
          "data": {
            "text/html": [
              "<div>\n",
              "<style scoped>\n",
              "    .dataframe tbody tr th:only-of-type {\n",
              "        vertical-align: middle;\n",
              "    }\n",
              "\n",
              "    .dataframe tbody tr th {\n",
              "        vertical-align: top;\n",
              "    }\n",
              "\n",
              "    .dataframe thead th {\n",
              "        text-align: right;\n",
              "    }\n",
              "</style>\n",
              "<table border=\"1\" class=\"dataframe\">\n",
              "  <thead>\n",
              "    <tr style=\"text-align: right;\">\n",
              "      <th></th>\n",
              "      <th>NAME</th>\n",
              "      <th>AGE</th>\n",
              "      <th>SALARY</th>\n",
              "    </tr>\n",
              "  </thead>\n",
              "  <tbody>\n",
              "    <tr>\n",
              "      <th>0</th>\n",
              "      <td>cagatay</td>\n",
              "      <td>22</td>\n",
              "      <td>2000</td>\n",
              "    </tr>\n",
              "    <tr>\n",
              "      <th>1</th>\n",
              "      <td>orhan</td>\n",
              "      <td>54</td>\n",
              "      <td>3000</td>\n",
              "    </tr>\n",
              "    <tr>\n",
              "      <th>2</th>\n",
              "      <td>umit</td>\n",
              "      <td>53</td>\n",
              "      <td>1000</td>\n",
              "    </tr>\n",
              "    <tr>\n",
              "      <th>3</th>\n",
              "      <td>bekir</td>\n",
              "      <td>30</td>\n",
              "      <td>4000</td>\n",
              "    </tr>\n",
              "    <tr>\n",
              "      <th>4</th>\n",
              "      <td>didem</td>\n",
              "      <td>23</td>\n",
              "      <td>500</td>\n",
              "    </tr>\n",
              "  </tbody>\n",
              "</table>\n",
              "</div>"
            ],
            "text/plain": [
              "      NAME  AGE  SALARY\n",
              "0  cagatay   22    2000\n",
              "1    orhan   54    3000\n",
              "2     umit   53    1000\n",
              "3    bekir   30    4000\n",
              "4    didem   23     500"
            ]
          },
          "metadata": {
            "tags": []
          },
          "execution_count": 44
        }
      ]
    },
    {
      "cell_type": "code",
      "metadata": {
        "id": "tlf0UvFUUu3c",
        "outputId": "a087992d-5e95-4bd0-845a-6a2e878ff0b1",
        "colab": {
          "base_uri": "https://localhost:8080/",
          "height": 204
        }
      },
      "source": [
        "df.tail()   #last 5 data"
      ],
      "execution_count": 45,
      "outputs": [
        {
          "output_type": "execute_result",
          "data": {
            "text/html": [
              "<div>\n",
              "<style scoped>\n",
              "    .dataframe tbody tr th:only-of-type {\n",
              "        vertical-align: middle;\n",
              "    }\n",
              "\n",
              "    .dataframe tbody tr th {\n",
              "        vertical-align: top;\n",
              "    }\n",
              "\n",
              "    .dataframe thead th {\n",
              "        text-align: right;\n",
              "    }\n",
              "</style>\n",
              "<table border=\"1\" class=\"dataframe\">\n",
              "  <thead>\n",
              "    <tr style=\"text-align: right;\">\n",
              "      <th></th>\n",
              "      <th>NAME</th>\n",
              "      <th>AGE</th>\n",
              "      <th>SALARY</th>\n",
              "    </tr>\n",
              "  </thead>\n",
              "  <tbody>\n",
              "    <tr>\n",
              "      <th>4</th>\n",
              "      <td>didem</td>\n",
              "      <td>23</td>\n",
              "      <td>500</td>\n",
              "    </tr>\n",
              "    <tr>\n",
              "      <th>5</th>\n",
              "      <td>berk</td>\n",
              "      <td>21</td>\n",
              "      <td>200</td>\n",
              "    </tr>\n",
              "    <tr>\n",
              "      <th>6</th>\n",
              "      <td>jack</td>\n",
              "      <td>31</td>\n",
              "      <td>300</td>\n",
              "    </tr>\n",
              "    <tr>\n",
              "      <th>7</th>\n",
              "      <td>galloway</td>\n",
              "      <td>58</td>\n",
              "      <td>500</td>\n",
              "    </tr>\n",
              "    <tr>\n",
              "      <th>8</th>\n",
              "      <td>ryan</td>\n",
              "      <td>69</td>\n",
              "      <td>600</td>\n",
              "    </tr>\n",
              "  </tbody>\n",
              "</table>\n",
              "</div>"
            ],
            "text/plain": [
              "       NAME  AGE  SALARY\n",
              "4     didem   23     500\n",
              "5      berk   21     200\n",
              "6      jack   31     300\n",
              "7  galloway   58     500\n",
              "8      ryan   69     600"
            ]
          },
          "metadata": {
            "tags": []
          },
          "execution_count": 45
        }
      ]
    },
    {
      "cell_type": "code",
      "metadata": {
        "id": "6NhXizujU0eC",
        "outputId": "95878ad7-dbfc-40d3-e38a-5415acf494ef",
        "colab": {
          "base_uri": "https://localhost:8080/"
        }
      },
      "source": [
        "print(df.info())"
      ],
      "execution_count": 46,
      "outputs": [
        {
          "output_type": "stream",
          "text": [
            "<class 'pandas.core.frame.DataFrame'>\n",
            "RangeIndex: 9 entries, 0 to 8\n",
            "Data columns (total 3 columns):\n",
            " #   Column  Non-Null Count  Dtype \n",
            "---  ------  --------------  ----- \n",
            " 0   NAME    9 non-null      object\n",
            " 1   AGE     9 non-null      int64 \n",
            " 2   SALARY  9 non-null      int64 \n",
            "dtypes: int64(2), object(1)\n",
            "memory usage: 344.0+ bytes\n",
            "None\n"
          ],
          "name": "stdout"
        }
      ]
    },
    {
      "cell_type": "code",
      "metadata": {
        "id": "CZ6yN8GwU-Pa",
        "outputId": "15a541f1-7cd6-486f-ea94-64290f3d03cf",
        "colab": {
          "base_uri": "https://localhost:8080/"
        }
      },
      "source": [
        "print(df.dtypes)"
      ],
      "execution_count": 47,
      "outputs": [
        {
          "output_type": "stream",
          "text": [
            "NAME      object\n",
            "AGE        int64\n",
            "SALARY     int64\n",
            "dtype: object\n"
          ],
          "name": "stdout"
        }
      ]
    },
    {
      "cell_type": "code",
      "metadata": {
        "id": "1LKy9iEjVR_p",
        "outputId": "a1c521ae-d576-47d5-b34c-f05614cd9891",
        "colab": {
          "base_uri": "https://localhost:8080/"
        }
      },
      "source": [
        "print(df.describe())    #count : entry size, mean : mean, std: standard deviation, etc.     #so describe gives more numerical information comparing to info()"
      ],
      "execution_count": 48,
      "outputs": [
        {
          "output_type": "stream",
          "text": [
            "             AGE       SALARY\n",
            "count   9.000000     9.000000\n",
            "mean   40.111111  1344.444444\n",
            "std    18.319692  1356.568383\n",
            "min    21.000000   200.000000\n",
            "25%    23.000000   500.000000\n",
            "50%    31.000000   600.000000\n",
            "75%    54.000000  2000.000000\n",
            "max    69.000000  4000.000000\n"
          ],
          "name": "stdout"
        }
      ]
    },
    {
      "cell_type": "code",
      "metadata": {
        "id": "z5xb0nNhVfdl",
        "outputId": "88a8da61-8de6-43dc-8da0-88f464435f64",
        "colab": {
          "base_uri": "https://localhost:8080/"
        }
      },
      "source": [
        "df[\"AGE\"]"
      ],
      "execution_count": 49,
      "outputs": [
        {
          "output_type": "execute_result",
          "data": {
            "text/plain": [
              "0    22\n",
              "1    54\n",
              "2    53\n",
              "3    30\n",
              "4    23\n",
              "5    21\n",
              "6    31\n",
              "7    58\n",
              "8    69\n",
              "Name: AGE, dtype: int64"
            ]
          },
          "metadata": {
            "tags": []
          },
          "execution_count": 49
        }
      ]
    },
    {
      "cell_type": "code",
      "metadata": {
        "id": "1qP2Wu3KXToq",
        "outputId": "6f424cd2-8a4a-4db3-cbb4-b8d1f1fe0ad7",
        "colab": {
          "base_uri": "https://localhost:8080/"
        }
      },
      "source": [
        "df.AGE"
      ],
      "execution_count": 50,
      "outputs": [
        {
          "output_type": "execute_result",
          "data": {
            "text/plain": [
              "0    22\n",
              "1    54\n",
              "2    53\n",
              "3    30\n",
              "4    23\n",
              "5    21\n",
              "6    31\n",
              "7    58\n",
              "8    69\n",
              "Name: AGE, dtype: int64"
            ]
          },
          "metadata": {
            "tags": []
          },
          "execution_count": 50
        }
      ]
    },
    {
      "cell_type": "code",
      "metadata": {
        "id": "LZWKSiBWXZ37"
      },
      "source": [
        "df[\"NEW\"] = [9,2,0,3,4,5,6,1,10]"
      ],
      "execution_count": 51,
      "outputs": []
    },
    {
      "cell_type": "code",
      "metadata": {
        "id": "_mQLF9SxXtHl",
        "outputId": "01222b2c-31eb-424b-9ca7-96eac29d2406",
        "colab": {
          "base_uri": "https://localhost:8080/",
          "height": 328
        }
      },
      "source": [
        "df"
      ],
      "execution_count": 52,
      "outputs": [
        {
          "output_type": "execute_result",
          "data": {
            "text/html": [
              "<div>\n",
              "<style scoped>\n",
              "    .dataframe tbody tr th:only-of-type {\n",
              "        vertical-align: middle;\n",
              "    }\n",
              "\n",
              "    .dataframe tbody tr th {\n",
              "        vertical-align: top;\n",
              "    }\n",
              "\n",
              "    .dataframe thead th {\n",
              "        text-align: right;\n",
              "    }\n",
              "</style>\n",
              "<table border=\"1\" class=\"dataframe\">\n",
              "  <thead>\n",
              "    <tr style=\"text-align: right;\">\n",
              "      <th></th>\n",
              "      <th>NAME</th>\n",
              "      <th>AGE</th>\n",
              "      <th>SALARY</th>\n",
              "      <th>NEW</th>\n",
              "    </tr>\n",
              "  </thead>\n",
              "  <tbody>\n",
              "    <tr>\n",
              "      <th>0</th>\n",
              "      <td>cagatay</td>\n",
              "      <td>22</td>\n",
              "      <td>2000</td>\n",
              "      <td>9</td>\n",
              "    </tr>\n",
              "    <tr>\n",
              "      <th>1</th>\n",
              "      <td>orhan</td>\n",
              "      <td>54</td>\n",
              "      <td>3000</td>\n",
              "      <td>2</td>\n",
              "    </tr>\n",
              "    <tr>\n",
              "      <th>2</th>\n",
              "      <td>umit</td>\n",
              "      <td>53</td>\n",
              "      <td>1000</td>\n",
              "      <td>0</td>\n",
              "    </tr>\n",
              "    <tr>\n",
              "      <th>3</th>\n",
              "      <td>bekir</td>\n",
              "      <td>30</td>\n",
              "      <td>4000</td>\n",
              "      <td>3</td>\n",
              "    </tr>\n",
              "    <tr>\n",
              "      <th>4</th>\n",
              "      <td>didem</td>\n",
              "      <td>23</td>\n",
              "      <td>500</td>\n",
              "      <td>4</td>\n",
              "    </tr>\n",
              "    <tr>\n",
              "      <th>5</th>\n",
              "      <td>berk</td>\n",
              "      <td>21</td>\n",
              "      <td>200</td>\n",
              "      <td>5</td>\n",
              "    </tr>\n",
              "    <tr>\n",
              "      <th>6</th>\n",
              "      <td>jack</td>\n",
              "      <td>31</td>\n",
              "      <td>300</td>\n",
              "      <td>6</td>\n",
              "    </tr>\n",
              "    <tr>\n",
              "      <th>7</th>\n",
              "      <td>galloway</td>\n",
              "      <td>58</td>\n",
              "      <td>500</td>\n",
              "      <td>1</td>\n",
              "    </tr>\n",
              "    <tr>\n",
              "      <th>8</th>\n",
              "      <td>ryan</td>\n",
              "      <td>69</td>\n",
              "      <td>600</td>\n",
              "      <td>10</td>\n",
              "    </tr>\n",
              "  </tbody>\n",
              "</table>\n",
              "</div>"
            ],
            "text/plain": [
              "       NAME  AGE  SALARY  NEW\n",
              "0   cagatay   22    2000    9\n",
              "1     orhan   54    3000    2\n",
              "2      umit   53    1000    0\n",
              "3     bekir   30    4000    3\n",
              "4     didem   23     500    4\n",
              "5      berk   21     200    5\n",
              "6      jack   31     300    6\n",
              "7  galloway   58     500    1\n",
              "8      ryan   69     600   10"
            ]
          },
          "metadata": {
            "tags": []
          },
          "execution_count": 52
        }
      ]
    },
    {
      "cell_type": "code",
      "metadata": {
        "id": "sXZ-cYvZXzWZ",
        "outputId": "614b1eac-ffda-469f-8cf0-88bbd4c9be76",
        "colab": {
          "base_uri": "https://localhost:8080/"
        }
      },
      "source": [
        "print(df.loc[5, \"AGE\"])"
      ],
      "execution_count": 53,
      "outputs": [
        {
          "output_type": "stream",
          "text": [
            "21\n"
          ],
          "name": "stdout"
        }
      ]
    },
    {
      "cell_type": "code",
      "metadata": {
        "id": "OvPK-4a6YNFC",
        "outputId": "44a89cc3-fd26-4ee1-f3fb-c64709a3794e",
        "colab": {
          "base_uri": "https://localhost:8080/"
        }
      },
      "source": [
        "print(df.loc[2:5, \"NAME\"])"
      ],
      "execution_count": 54,
      "outputs": [
        {
          "output_type": "stream",
          "text": [
            "2     umit\n",
            "3    bekir\n",
            "4    didem\n",
            "5     berk\n",
            "Name: NAME, dtype: object\n"
          ],
          "name": "stdout"
        }
      ]
    },
    {
      "cell_type": "code",
      "metadata": {
        "id": "g4W6e8SKYWuW",
        "outputId": "622de822-076d-4201-e44d-10c8d52e6a88",
        "colab": {
          "base_uri": "https://localhost:8080/"
        }
      },
      "source": [
        "print(df.loc[0:4, \"NAME\":\"SALARY\"])"
      ],
      "execution_count": 55,
      "outputs": [
        {
          "output_type": "stream",
          "text": [
            "      NAME  AGE  SALARY\n",
            "0  cagatay   22    2000\n",
            "1    orhan   54    3000\n",
            "2     umit   53    1000\n",
            "3    bekir   30    4000\n",
            "4    didem   23     500\n"
          ],
          "name": "stdout"
        }
      ]
    },
    {
      "cell_type": "code",
      "metadata": {
        "id": "HowzIq8qYqCj",
        "outputId": "01268be0-ac5b-4353-8a33-d9a96677e9d3",
        "colab": {
          "base_uri": "https://localhost:8080/"
        }
      },
      "source": [
        "print(df.loc[0:4, \"NAME\":\"SALARY\"])"
      ],
      "execution_count": 56,
      "outputs": [
        {
          "output_type": "stream",
          "text": [
            "      NAME  AGE  SALARY\n",
            "0  cagatay   22    2000\n",
            "1    orhan   54    3000\n",
            "2     umit   53    1000\n",
            "3    bekir   30    4000\n",
            "4    didem   23     500\n"
          ],
          "name": "stdout"
        }
      ]
    },
    {
      "cell_type": "code",
      "metadata": {
        "id": "SY91cFEa40h8",
        "outputId": "16ea7103-fdc9-4878-ef68-c26eca06cd11",
        "colab": {
          "base_uri": "https://localhost:8080/"
        }
      },
      "source": [
        "print(df.iloc[:,2])"
      ],
      "execution_count": 57,
      "outputs": [
        {
          "output_type": "stream",
          "text": [
            "0    2000\n",
            "1    3000\n",
            "2    1000\n",
            "3    4000\n",
            "4     500\n",
            "5     200\n",
            "6     300\n",
            "7     500\n",
            "8     600\n",
            "Name: SALARY, dtype: int64\n"
          ],
          "name": "stdout"
        }
      ]
    },
    {
      "cell_type": "code",
      "metadata": {
        "id": "6p4jHSy37B3_",
        "outputId": "16a23d43-6e4c-4702-cadd-abe07ad19775",
        "colab": {
          "base_uri": "https://localhost:8080/"
        }
      },
      "source": [
        "filteredColumns = df[[\"NAME\", \"SALARY\"]]   #I got specific columns\n",
        "print(filteredColumns)"
      ],
      "execution_count": 58,
      "outputs": [
        {
          "output_type": "stream",
          "text": [
            "       NAME  SALARY\n",
            "0   cagatay    2000\n",
            "1     orhan    3000\n",
            "2      umit    1000\n",
            "3     bekir    4000\n",
            "4     didem     500\n",
            "5      berk     200\n",
            "6      jack     300\n",
            "7  galloway     500\n",
            "8      ryan     600\n"
          ],
          "name": "stdout"
        }
      ]
    },
    {
      "cell_type": "code",
      "metadata": {
        "id": "4S_9jx_y-nTx",
        "outputId": "91ddc152-cea6-42e3-babf-60673a064649",
        "colab": {
          "base_uri": "https://localhost:8080/",
          "height": 328
        }
      },
      "source": [
        "df"
      ],
      "execution_count": 59,
      "outputs": [
        {
          "output_type": "execute_result",
          "data": {
            "text/html": [
              "<div>\n",
              "<style scoped>\n",
              "    .dataframe tbody tr th:only-of-type {\n",
              "        vertical-align: middle;\n",
              "    }\n",
              "\n",
              "    .dataframe tbody tr th {\n",
              "        vertical-align: top;\n",
              "    }\n",
              "\n",
              "    .dataframe thead th {\n",
              "        text-align: right;\n",
              "    }\n",
              "</style>\n",
              "<table border=\"1\" class=\"dataframe\">\n",
              "  <thead>\n",
              "    <tr style=\"text-align: right;\">\n",
              "      <th></th>\n",
              "      <th>NAME</th>\n",
              "      <th>AGE</th>\n",
              "      <th>SALARY</th>\n",
              "      <th>NEW</th>\n",
              "    </tr>\n",
              "  </thead>\n",
              "  <tbody>\n",
              "    <tr>\n",
              "      <th>0</th>\n",
              "      <td>cagatay</td>\n",
              "      <td>22</td>\n",
              "      <td>2000</td>\n",
              "      <td>9</td>\n",
              "    </tr>\n",
              "    <tr>\n",
              "      <th>1</th>\n",
              "      <td>orhan</td>\n",
              "      <td>54</td>\n",
              "      <td>3000</td>\n",
              "      <td>2</td>\n",
              "    </tr>\n",
              "    <tr>\n",
              "      <th>2</th>\n",
              "      <td>umit</td>\n",
              "      <td>53</td>\n",
              "      <td>1000</td>\n",
              "      <td>0</td>\n",
              "    </tr>\n",
              "    <tr>\n",
              "      <th>3</th>\n",
              "      <td>bekir</td>\n",
              "      <td>30</td>\n",
              "      <td>4000</td>\n",
              "      <td>3</td>\n",
              "    </tr>\n",
              "    <tr>\n",
              "      <th>4</th>\n",
              "      <td>didem</td>\n",
              "      <td>23</td>\n",
              "      <td>500</td>\n",
              "      <td>4</td>\n",
              "    </tr>\n",
              "    <tr>\n",
              "      <th>5</th>\n",
              "      <td>berk</td>\n",
              "      <td>21</td>\n",
              "      <td>200</td>\n",
              "      <td>5</td>\n",
              "    </tr>\n",
              "    <tr>\n",
              "      <th>6</th>\n",
              "      <td>jack</td>\n",
              "      <td>31</td>\n",
              "      <td>300</td>\n",
              "      <td>6</td>\n",
              "    </tr>\n",
              "    <tr>\n",
              "      <th>7</th>\n",
              "      <td>galloway</td>\n",
              "      <td>58</td>\n",
              "      <td>500</td>\n",
              "      <td>1</td>\n",
              "    </tr>\n",
              "    <tr>\n",
              "      <th>8</th>\n",
              "      <td>ryan</td>\n",
              "      <td>69</td>\n",
              "      <td>600</td>\n",
              "      <td>10</td>\n",
              "    </tr>\n",
              "  </tbody>\n",
              "</table>\n",
              "</div>"
            ],
            "text/plain": [
              "       NAME  AGE  SALARY  NEW\n",
              "0   cagatay   22    2000    9\n",
              "1     orhan   54    3000    2\n",
              "2      umit   53    1000    0\n",
              "3     bekir   30    4000    3\n",
              "4     didem   23     500    4\n",
              "5      berk   21     200    5\n",
              "6      jack   31     300    6\n",
              "7  galloway   58     500    1\n",
              "8      ryan   69     600   10"
            ]
          },
          "metadata": {
            "tags": []
          },
          "execution_count": 59
        }
      ]
    },
    {
      "cell_type": "code",
      "metadata": {
        "id": "HYTPzqRfA4dM"
      },
      "source": [
        "filter = df.SALARY > 1000"
      ],
      "execution_count": 61,
      "outputs": []
    },
    {
      "cell_type": "code",
      "metadata": {
        "id": "vUS9ys6GA_hX",
        "outputId": "70360fa9-6aad-46e6-ad3a-f344aa4e81b3",
        "colab": {
          "base_uri": "https://localhost:8080/"
        }
      },
      "source": [
        "print(df[filter])"
      ],
      "execution_count": 63,
      "outputs": [
        {
          "output_type": "stream",
          "text": [
            "      NAME  AGE  SALARY  NEW\n",
            "0  cagatay   22    2000    9\n",
            "1    orhan   54    3000    2\n",
            "3    bekir   30    4000    3\n"
          ],
          "name": "stdout"
        }
      ]
    },
    {
      "cell_type": "code",
      "metadata": {
        "id": "hAqQZ_CtBKdP",
        "outputId": "2b8c273e-c79c-46ca-a745-9e1619c0cf0a",
        "colab": {
          "base_uri": "https://localhost:8080/"
        }
      },
      "source": [
        "filter2 = df.AGE > 29\n",
        "print(df[filter & filter2])"
      ],
      "execution_count": 65,
      "outputs": [
        {
          "output_type": "stream",
          "text": [
            "    NAME  AGE  SALARY  NEW\n",
            "1  orhan   54    3000    2\n",
            "3  bekir   30    4000    3\n"
          ],
          "name": "stdout"
        }
      ]
    },
    {
      "cell_type": "code",
      "metadata": {
        "id": "RqE2UzwKBorD",
        "outputId": "21847da3-c611-4da8-cb29-6c2851dd91e0",
        "colab": {
          "base_uri": "https://localhost:8080/"
        }
      },
      "source": [
        "print(filter & filter2)"
      ],
      "execution_count": 67,
      "outputs": [
        {
          "output_type": "stream",
          "text": [
            "0    False\n",
            "1     True\n",
            "2    False\n",
            "3     True\n",
            "4    False\n",
            "5    False\n",
            "6    False\n",
            "7    False\n",
            "8    False\n",
            "dtype: bool\n"
          ],
          "name": "stdout"
        }
      ]
    }
  ]
}